{
  "nbformat": 4,
  "nbformat_minor": 0,
  "metadata": {
    "kernelspec": {
      "display_name": "Python 3",
      "language": "python",
      "name": "python3"
    },
    "language_info": {
      "codemirror_mode": {
        "name": "ipython",
        "version": 3
      },
      "file_extension": ".py",
      "mimetype": "text/x-python",
      "name": "python",
      "nbconvert_exporter": "python",
      "pygments_lexer": "ipython3",
      "version": "3.6.3"
    },
    "colab": {
      "name": "trainer_and_solver.ipynb",
      "provenance": [],
      "toc_visible": true
    }
  },
  "cells": [
    {
      "cell_type": "code",
      "metadata": {
        "id": "5EyEWpU3ZdQ9"
      },
      "source": [
        "import pandas as pd\n",
        "import numpy as np\n",
        "from sklearn.model_selection import train_test_split\n",
        "from sklearn.metrics import confusion_matrix"
      ],
      "execution_count": 2,
      "outputs": []
    },
    {
      "cell_type": "markdown",
      "metadata": {
        "id": "cOY4KNCXZdRC"
      },
      "source": [
        "# Loading Data"
      ]
    },
    {
      "cell_type": "code",
      "metadata": {
        "id": "ECg3ZeenZdRD"
      },
      "source": [
        "data = dict()\n",
        "data[\"fake\"]  = pd.read_csv(\"https://raw.githubusercontent.com/NikhilCodes/Fake-Twitter-Account-Detection-Keras/master/DATASET/fusers.csv\")\n",
        "data[\"legit\"] = pd.read_csv(\"users.csv\")"
      ],
      "execution_count": 4,
      "outputs": []
    },
    {
      "cell_type": "markdown",
      "metadata": {
        "id": "kESft9PUZdRD"
      },
      "source": [
        "# Removing unnecessary columns"
      ]
    },
    {
      "cell_type": "code",
      "metadata": {
        "id": "AhMuYOblZdRE"
      },
      "source": [
        "data[\"legit\"] = data[\"legit\"].drop([\"id\", \"name\", \"screen_name\", \"created_at\", \"lang\", \"location\", \"default_profile\", \"default_profile_image\", \"geo_enabled\", \"profile_image_url\", \"profile_banner_url\", \"profile_use_background_image\", \"profile_background_image_url_https\", \"profile_text_color\", \"profile_image_url_https\", \"profile_sidebar_border_color\", \"profile_background_tile\", \"profile_sidebar_fill_color\", \"profile_background_image_url\", \"profile_background_color\", \"profile_link_color\", \"utc_offset\", \"protected\", \"verified\", \"dataset\", \"updated\", \"description\"], axis=1)\n",
        "data[\"fake\"]  = data[\"fake\"].drop([\"id\", \"name\", \"screen_name\", \"created_at\", \"lang\", \"location\", \"default_profile\", \"default_profile_image\", \"geo_enabled\", \"profile_image_url\", \"profile_banner_url\", \"profile_use_background_image\", \"profile_background_image_url_https\", \"profile_text_color\", \"profile_image_url_https\", \"profile_sidebar_border_color\", \"profile_background_tile\", \"profile_sidebar_fill_color\", \"profile_background_image_url\", \"profile_background_color\", \"profile_link_color\", \"utc_offset\", \"protected\", \"verified\", \"dataset\", \"updated\", \"description\"], axis=1)"
      ],
      "execution_count": 5,
      "outputs": []
    },
    {
      "cell_type": "code",
      "metadata": {
        "scrolled": true,
        "id": "Qj3vsdzzZdRE",
        "outputId": "956add09-6627-4f00-d1b4-3457f0b79153",
        "colab": {
          "base_uri": "https://localhost:8080/"
        }
      },
      "source": [
        "print(\"Final Available Columns\")\n",
        "data[\"legit\"].columns"
      ],
      "execution_count": 6,
      "outputs": [
        {
          "output_type": "stream",
          "text": [
            "Final Available Columns\n"
          ],
          "name": "stdout"
        },
        {
          "output_type": "execute_result",
          "data": {
            "text/plain": [
              "Index(['statuses_count', 'followers_count', 'friends_count',\n",
              "       'favourites_count', 'listed_count', 'url', 'time_zone'],\n",
              "      dtype='object')"
            ]
          },
          "metadata": {
            "tags": []
          },
          "execution_count": 6
        }
      ]
    },
    {
      "cell_type": "markdown",
      "metadata": {
        "id": "gOl1pSgoZdRF"
      },
      "source": [
        "# Converting DataFrame to Numpy Array"
      ]
    },
    {
      "cell_type": "code",
      "metadata": {
        "id": "e12WykOUZdRF"
      },
      "source": [
        "data[\"legit\"] = data[\"legit\"].values\n",
        "data[\"fake\"] = data[\"fake\"].values"
      ],
      "execution_count": 7,
      "outputs": []
    },
    {
      "cell_type": "markdown",
      "metadata": {
        "id": "C-n5FZD7ZdRF"
      },
      "source": [
        "# Checking Availability of `URL` and `Time Zone`"
      ]
    },
    {
      "cell_type": "code",
      "metadata": {
        "id": "cCyS3ss-ZdRG"
      },
      "source": [
        "for i in range(len(data[\"legit\"])):\n",
        "    if type(data[\"legit\"][i][5]) == str:\n",
        "        data[\"legit\"][i][5] = 1\n",
        "    \n",
        "    if type(data[\"legit\"][i][6]) == str:\n",
        "        data[\"legit\"][i][6] = 1\n",
        "        \n",
        "for i in range(len(data[\"fake\"])):\n",
        "    if type(data[\"fake\"][i][5]) == str:\n",
        "        data[\"fake\"][i][5] = 1\n",
        "    \n",
        "    if type(data[\"fake\"][i][6]) == str:\n",
        "        data[\"fake\"][i][6] = 1"
      ],
      "execution_count": 8,
      "outputs": []
    },
    {
      "cell_type": "markdown",
      "metadata": {
        "id": "d9BYjCbFZdRG"
      },
      "source": [
        "# Changing DataType of data to `float64`"
      ]
    },
    {
      "cell_type": "code",
      "metadata": {
        "id": "efhe0EnWZdRG"
      },
      "source": [
        "data[\"legit\"] = data[\"legit\"].astype(np.float64)\n",
        "data[\"fake\"] = data[\"fake\"].astype(np.float64)"
      ],
      "execution_count": 9,
      "outputs": []
    },
    {
      "cell_type": "markdown",
      "metadata": {
        "id": "0z2QzU41ZdRG"
      },
      "source": [
        "# Changing all `NaN` to `0`"
      ]
    },
    {
      "cell_type": "code",
      "metadata": {
        "id": "TPyNPQLqZdRH"
      },
      "source": [
        "where_nans = np.isnan(data[\"legit\"])\n",
        "data[\"legit\"][where_nans] = 0\n",
        "\n",
        "where_nans = np.isnan(data[\"fake\"])\n",
        "data[\"fake\"][where_nans] = 0"
      ],
      "execution_count": 10,
      "outputs": []
    },
    {
      "cell_type": "markdown",
      "metadata": {
        "id": "5gRhR5sGZdRH"
      },
      "source": [
        "# Creating merged dataset from legit and fake profile dataset."
      ]
    },
    {
      "cell_type": "code",
      "metadata": {
        "id": "VUOIWVqoZdRH"
      },
      "source": [
        "X = np.zeros((len(data[\"fake\"]) + len(data[\"legit\"]), 7))\n",
        "Y = np.zeros(len(data[\"fake\"]) + len(data[\"legit\"]))"
      ],
      "execution_count": 11,
      "outputs": []
    },
    {
      "cell_type": "code",
      "metadata": {
        "id": "yKd72rH2ZdRH"
      },
      "source": [
        "for i in range(len(data[\"legit\"])):\n",
        "    X[i] = data[\"legit\"][i]/max(data[\"legit\"][i])\n",
        "    Y[i] = -1\n",
        "\n",
        "for i in range(len(data[\"fake\"])):\n",
        "    bound = max(data[\"fake\"][i])\n",
        "    if bound == 0:\n",
        "        bound = 1\n",
        "    \n",
        "    X[len(data[\"legit\"])+i] = data[\"fake\"][i]/bound # Normalizing Data [0 <--> 1]\n",
        "    Y[len(data[\"legit\"])+i] = 1"
      ],
      "execution_count": 12,
      "outputs": []
    },
    {
      "cell_type": "markdown",
      "metadata": {
        "id": "G4NBwIbAZdRH"
      },
      "source": [
        "# Splitting Dataset into Train and Test"
      ]
    },
    {
      "cell_type": "code",
      "metadata": {
        "id": "ehpcr38LZdRI"
      },
      "source": [
        "X_train, X_test, y_train, y_test = train_test_split( X, Y, \n",
        "    test_size=0.24, random_state=42)"
      ],
      "execution_count": 13,
      "outputs": []
    },
    {
      "cell_type": "markdown",
      "metadata": {
        "id": "1ac-YUtGZdRI"
      },
      "source": [
        "# Loading Deep Learning libraries"
      ]
    },
    {
      "cell_type": "code",
      "metadata": {
        "id": "PTYOiHgfZdRI"
      },
      "source": [
        "from keras.models import Sequential\n",
        "from keras.optimizers import SGD\n",
        "from keras.layers import Dense, BatchNormalization, Activation, Dropout\n",
        "from keras.callbacks import EarlyStopping, Callback\n",
        "\n",
        "from IPython.display import clear_output"
      ],
      "execution_count": 14,
      "outputs": []
    },
    {
      "cell_type": "markdown",
      "metadata": {
        "id": "tH5voQaSZdRI"
      },
      "source": [
        "## Initializing Early Stopping Callback to prevent training proceed to overfitting."
      ]
    },
    {
      "cell_type": "code",
      "metadata": {
        "id": "fus_aho7ZdRI"
      },
      "source": [
        "early_stopping = EarlyStopping(monitor='val_loss', patience=2)"
      ],
      "execution_count": 15,
      "outputs": []
    },
    {
      "cell_type": "markdown",
      "metadata": {
        "id": "tf8G8L4-ZdRI"
      },
      "source": [
        "# Creating Accuracy Loss Graph callback"
      ]
    },
    {
      "cell_type": "code",
      "metadata": {
        "id": "VRjh2MtBZdRJ"
      },
      "source": [
        "class PlotLearning(Callback):\n",
        "    def on_train_begin(self, logs={}):\n",
        "        self.i = 0\n",
        "        self.x = []\n",
        "        self.losses = []\n",
        "        self.val_losses = []\n",
        "        self.acc = []\n",
        "        self.val_acc = []\n",
        "        self.fig = plt.figure()\n",
        "        \n",
        "        self.logs = []\n",
        "        \n",
        "\n",
        "    def on_epoch_end(self, epoch, logs={}):\n",
        "        \n",
        "        self.logs.append(logs)\n",
        "        self.x.append(self.i)\n",
        "        self.losses.append(logs.get('loss'))\n",
        "        self.val_losses.append(logs.get('val_loss'))\n",
        "        self.acc.append(logs.get('acc'))\n",
        "        self.val_acc.append(logs.get('val_acc'))\n",
        "        self.i += 1\n",
        "        f, (ax1, ax2) = plt.subplots(1, 2, sharex=True)\n",
        "        \n",
        "        clear_output(wait=True)\n",
        "        \n",
        "        ax1.set_yscale('Log')\n",
        "        ax1.plot(self.x, self.losses, label=\"loss\")\n",
        "        ax1.plot(self.x, self.val_losses, label=\"val_loss\")\n",
        "        ax1.legend()\n",
        "        \n",
        "        ax2.plot(self.x, self.acc, label=\"accuracy\")\n",
        "        ax2.plot(self.x, self.val_acc, label=\"validation accuracy\")\n",
        "        ax2.legend()\n",
        "        \n",
        "        plt.show();\n",
        "        \n",
        "        \n",
        "plot = PlotLearning()"
      ],
      "execution_count": 16,
      "outputs": []
    },
    {
      "cell_type": "markdown",
      "metadata": {
        "id": "KC11KXt0ZdRJ"
      },
      "source": [
        "##  Building Predictive Model"
      ]
    },
    {
      "cell_type": "code",
      "metadata": {
        "id": "O-0iDpndZdRJ",
        "outputId": "ac087c9f-b6ea-40b9-bd2b-96a7f72efcb8",
        "colab": {
          "base_uri": "https://localhost:8080/"
        }
      },
      "source": [
        "model = Sequential([\n",
        "    BatchNormalization(),\n",
        "    \n",
        "    Dense(16, activation=\"relu\", kernel_regularizer=\"l2\"),\n",
        "    BatchNormalization(),\n",
        "    Dense(8, activation=\"relu\", kernel_regularizer=\"l2\"),\n",
        "    BatchNormalization(),\n",
        "    Dense(1, activation=\"tanh\"),\n",
        "])\n",
        "\n",
        "model.build((None, X.shape[1]))\n",
        "model.summary()\n",
        "model.compile(\n",
        "    optimizer=\"adadelta\",\n",
        "    loss=\"binary_crossentropy\",\n",
        "    metrics=[\"acc\"]\n",
        ")"
      ],
      "execution_count": 17,
      "outputs": [
        {
          "output_type": "stream",
          "text": [
            "Model: \"sequential\"\n",
            "_________________________________________________________________\n",
            "Layer (type)                 Output Shape              Param #   \n",
            "=================================================================\n",
            "batch_normalization (BatchNo (None, 7)                 28        \n",
            "_________________________________________________________________\n",
            "dense (Dense)                (None, 16)                128       \n",
            "_________________________________________________________________\n",
            "batch_normalization_1 (Batch (None, 16)                64        \n",
            "_________________________________________________________________\n",
            "dense_1 (Dense)              (None, 8)                 136       \n",
            "_________________________________________________________________\n",
            "batch_normalization_2 (Batch (None, 8)                 32        \n",
            "_________________________________________________________________\n",
            "dense_2 (Dense)              (None, 1)                 9         \n",
            "=================================================================\n",
            "Total params: 397\n",
            "Trainable params: 335\n",
            "Non-trainable params: 62\n",
            "_________________________________________________________________\n"
          ],
          "name": "stdout"
        }
      ]
    },
    {
      "cell_type": "markdown",
      "metadata": {
        "id": "xcDqkmG6ZdRK"
      },
      "source": [
        "# Iterative Training Process Begins..."
      ]
    },
    {
      "cell_type": "code",
      "metadata": {
        "id": "RSRAXygYamBo"
      },
      "source": [
        ""
      ],
      "execution_count": null,
      "outputs": []
    },
    {
      "cell_type": "code",
      "metadata": {
        "id": "H4w5pZt7ZdRK",
        "outputId": "adaebe24-0e68-457e-94f0-f91e4bb817b2",
        "colab": {
          "base_uri": "https://localhost:8080/",
          "height": 282
        }
      },
      "source": [
        "model.fit(X_train, y_train, epochs=100, validation_data=(X_test, y_test), shuffle=True, batch_size=100, callbacks=[early_stopping,plot])"
      ],
      "execution_count": 27,
      "outputs": [
        {
          "output_type": "display_data",
          "data": {
            "image/png": "[encoded data removed]",
            "text/plain": [
              "<Figure size 432x288 with 2 Axes>"
            ]
          },
          "metadata": {
            "tags": [],
            "needs_background": "light"
          }
        },
        {
          "output_type": "execute_result",
          "data": {
            "text/plain": [
              "<tensorflow.python.keras.callbacks.History at 0x7fadb50cfe10>"
            ]
          },
          "metadata": {
            "tags": []
          },
          "execution_count": 27
        }
      ]
    },
    {
      "cell_type": "code",
      "metadata": {
        "id": "rak9-rPEZdRK"
      },
      "source": [
        "logits = model.predict(X_test).T[0]"
      ],
      "execution_count": 29,
      "outputs": []
    },
    {
      "cell_type": "code",
      "metadata": {
        "id": "MB5Z1SZpZdRK"
      },
      "source": [
        "for i in range(len(logits)):\n",
        "    logits[i] = -1 if logits[i] < 0 else 1"
      ],
      "execution_count": 30,
      "outputs": []
    },
    {
      "cell_type": "code",
      "metadata": {
        "id": "rPcGTkStZdRL"
      },
      "source": [
        "import matplotlib.pyplot as plt\n",
        "def plot_confusion_matrix(cm, title='CONFUSION MATRIX', cmap=plt.cm.Reds):\n",
        "    target_names=['Fake','Genuine']\n",
        "    plt.imshow(cm, interpolation='nearest', cmap=cmap)\n",
        "    plt.title(title)\n",
        "    plt.colorbar()\n",
        "    tick_marks = np.arange(len(target_names))\n",
        "    plt.xticks(tick_marks, target_names, rotation=45)\n",
        "    plt.yticks(tick_marks, target_names)\n",
        "    plt.tight_layout()\n",
        "    plt.ylabel('True label')\n",
        "    plt.xlabel('Predicted label')"
      ],
      "execution_count": 31,
      "outputs": []
    },
    {
      "cell_type": "code",
      "metadata": {
        "id": "5Tmrpqk_ZdRL",
        "outputId": "024e073a-a082-43d1-a904-ef8c84ba8c75",
        "colab": {
          "base_uri": "https://localhost:8080/"
        }
      },
      "source": [
        "mat = confusion_matrix(y_test, logits)\n",
        "print(mat)"
      ],
      "execution_count": 32,
      "outputs": [
        {
          "output_type": "stream",
          "text": [
            "[[159 199]\n",
            " [317   2]]\n"
          ],
          "name": "stdout"
        }
      ]
    },
    {
      "cell_type": "code",
      "metadata": {
        "id": "tQHW2yLQZdRL",
        "outputId": "b48ed360-2f7c-4381-84ac-49a0e1b7a1dd",
        "colab": {
          "base_uri": "https://localhost:8080/",
          "height": 311
        }
      },
      "source": [
        "plot_confusion_matrix(mat)"
      ],
      "execution_count": 33,
      "outputs": [
        {
          "output_type": "display_data",
          "data": {
            "image/png": "[encoded data removed]",
            "text/plain": [
              "<Figure size 432x288 with 2 Axes>"
            ]
          },
          "metadata": {
            "tags": [],
            "needs_background": "light"
          }
        }
      ]
    },
    {
      "cell_type": "markdown",
      "metadata": {
        "id": "9FjhRpHnZdRL"
      },
      "source": [
        "# Validation Accuracy"
      ]
    },
    {
      "cell_type": "code",
      "metadata": {
        "id": "ST7UjyYiZdRL",
        "outputId": "22759084-2a0a-4be1-ddc5-c8397e891381",
        "colab": {
          "base_uri": "https://localhost:8080/"
        }
      },
      "source": [
        "_, train_acc = model.evaluate(X_train, y_train)\n",
        "_, val_acc = model.evaluate(X_test, y_test)\n",
        "print(\"Train Accuracy:\", train_acc)\n",
        "print(\"Validation Accuracy:\", val_acc)"
      ],
      "execution_count": 34,
      "outputs": [
        {
          "output_type": "stream",
          "text": [
            "67/67 [==============================] - 0s 1ms/step - loss: 3.7813 - acc: 0.0037\n",
            "22/22 [==============================] - 0s 1ms/step - loss: 3.4013 - acc: 0.0015\n",
            "Train Accuracy: 0.003736571641638875\n",
            "Validation Accuracy: 0.0014771048445254564\n"
          ],
          "name": "stdout"
        }
      ]
    }
  ]
}